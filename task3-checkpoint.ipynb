{
 "cells": [
  {
   "cell_type": "code",
   "execution_count": 1,
   "metadata": {},
   "outputs": [],
   "source": [
    "import numpy as np\n",
    "import pandas as pd"
   ]
  },
  {
   "cell_type": "code",
   "execution_count": 64,
   "metadata": {},
   "outputs": [
    {
     "data": {
      "text/plain": [
       "<bound method NDFrame.head of       Invoice ID Branch       City Customer type  Gender  \\\n",
       "0    750-67-8428      A     Yangon        Member  Female   \n",
       "1    226-31-3081      C  Naypyitaw        Normal  Female   \n",
       "2    631-41-3108      A     Yangon        Normal    Male   \n",
       "3    123-19-1176      A     Yangon        Member    Male   \n",
       "4    373-73-7910      A     Yangon        Normal    Male   \n",
       "..           ...    ...        ...           ...     ...   \n",
       "995  233-67-5758      C  Naypyitaw        Normal    Male   \n",
       "996  303-96-2227      B   Mandalay        Normal  Female   \n",
       "997  727-02-1313      A     Yangon        Member    Male   \n",
       "998  347-56-2442      A     Yangon        Normal    Male   \n",
       "999  849-09-3807      A     Yangon        Member  Female   \n",
       "\n",
       "               Product line  Unit price  Quantity   Tax 5%      Total  \\\n",
       "0         Health and beauty       74.69         7  26.1415   548.9715   \n",
       "1    Electronic accessories       15.28         5   3.8200    80.2200   \n",
       "2        Home and lifestyle       46.33         7  16.2155   340.5255   \n",
       "3         Health and beauty       58.22         8  23.2880   489.0480   \n",
       "4         Sports and travel       86.31         7  30.2085   634.3785   \n",
       "..                      ...         ...       ...      ...        ...   \n",
       "995       Health and beauty       40.35         1   2.0175    42.3675   \n",
       "996      Home and lifestyle       97.38        10  48.6900  1022.4900   \n",
       "997      Food and beverages       31.84         1   1.5920    33.4320   \n",
       "998      Home and lifestyle       65.82         1   3.2910    69.1110   \n",
       "999     Fashion accessories       88.34         7  30.9190   649.2990   \n",
       "\n",
       "          Date   Time      Payment    cogs  gross margin percentage  \\\n",
       "0     1/5/2019  13:08      Ewallet  522.83                 4.761905   \n",
       "1     3/8/2019  10:29         Cash   76.40                 4.761905   \n",
       "2     3/3/2019  13:23  Credit card  324.31                 4.761905   \n",
       "3    1/27/2019  20:33      Ewallet  465.76                 4.761905   \n",
       "4     2/8/2019  10:37      Ewallet  604.17                 4.761905   \n",
       "..         ...    ...          ...     ...                      ...   \n",
       "995  1/29/2019  13:46      Ewallet   40.35                 4.761905   \n",
       "996   3/2/2019  17:16      Ewallet  973.80                 4.761905   \n",
       "997   2/9/2019  13:22         Cash   31.84                 4.761905   \n",
       "998  2/22/2019  15:33         Cash   65.82                 4.761905   \n",
       "999  2/18/2019  13:28         Cash  618.38                 4.761905   \n",
       "\n",
       "     gross income  Rating  \n",
       "0         26.1415     9.1  \n",
       "1          3.8200     9.6  \n",
       "2         16.2155     7.4  \n",
       "3         23.2880     8.4  \n",
       "4         30.2085     5.3  \n",
       "..            ...     ...  \n",
       "995        2.0175     6.2  \n",
       "996       48.6900     4.4  \n",
       "997        1.5920     7.7  \n",
       "998        3.2910     4.1  \n",
       "999       30.9190     6.6  \n",
       "\n",
       "[1000 rows x 17 columns]>"
      ]
     },
     "execution_count": 64,
     "metadata": {},
     "output_type": "execute_result"
    }
   ],
   "source": [
    "data=pd.read_csv(\"supermarket_sales.csv\")\n",
    "data.head"
   ]
  },
  {
   "cell_type": "code",
   "execution_count": 65,
   "metadata": {},
   "outputs": [
    {
     "data": {
      "text/plain": [
       "Invoice ID                 0\n",
       "Branch                     0\n",
       "City                       0\n",
       "Customer type              0\n",
       "Gender                     0\n",
       "Product line               0\n",
       "Unit price                 0\n",
       "Quantity                   0\n",
       "Tax 5%                     0\n",
       "Total                      0\n",
       "Date                       0\n",
       "Time                       0\n",
       "Payment                    0\n",
       "cogs                       0\n",
       "gross margin percentage    0\n",
       "gross income               0\n",
       "Rating                     0\n",
       "dtype: int64"
      ]
     },
     "execution_count": 65,
     "metadata": {},
     "output_type": "execute_result"
    }
   ],
   "source": [
    "data_Missing=data.isnull().sum()\n",
    "data_Missing"
   ]
  },
  {
   "cell_type": "code",
   "execution_count": 66,
   "metadata": {},
   "outputs": [
    {
     "data": {
      "text/html": [
       "<div>\n",
       "<style scoped>\n",
       "    .dataframe tbody tr th:only-of-type {\n",
       "        vertical-align: middle;\n",
       "    }\n",
       "\n",
       "    .dataframe tbody tr th {\n",
       "        vertical-align: top;\n",
       "    }\n",
       "\n",
       "    .dataframe thead th {\n",
       "        text-align: right;\n",
       "    }\n",
       "</style>\n",
       "<table border=\"1\" class=\"dataframe\">\n",
       "  <thead>\n",
       "    <tr style=\"text-align: right;\">\n",
       "      <th></th>\n",
       "      <th>Invoice ID</th>\n",
       "      <th>Branch</th>\n",
       "      <th>City</th>\n",
       "      <th>Customer type</th>\n",
       "      <th>Gender</th>\n",
       "      <th>Product line</th>\n",
       "      <th>Unit price</th>\n",
       "      <th>Quantity</th>\n",
       "      <th>Tax 5%</th>\n",
       "      <th>Total</th>\n",
       "      <th>Date</th>\n",
       "      <th>Time</th>\n",
       "      <th>Payment</th>\n",
       "      <th>cogs</th>\n",
       "      <th>gross margin percentage</th>\n",
       "      <th>gross income</th>\n",
       "      <th>Rating</th>\n",
       "    </tr>\n",
       "  </thead>\n",
       "  <tbody>\n",
       "    <tr>\n",
       "      <th>0</th>\n",
       "      <td>750-67-8428</td>\n",
       "      <td>0</td>\n",
       "      <td>2</td>\n",
       "      <td>0</td>\n",
       "      <td>0</td>\n",
       "      <td>3</td>\n",
       "      <td>74.69</td>\n",
       "      <td>7</td>\n",
       "      <td>26.1415</td>\n",
       "      <td>548.9715</td>\n",
       "      <td>1/5/2019</td>\n",
       "      <td>13:08</td>\n",
       "      <td>2</td>\n",
       "      <td>522.83</td>\n",
       "      <td>4.761905</td>\n",
       "      <td>26.1415</td>\n",
       "      <td>9.1</td>\n",
       "    </tr>\n",
       "    <tr>\n",
       "      <th>1</th>\n",
       "      <td>226-31-3081</td>\n",
       "      <td>2</td>\n",
       "      <td>1</td>\n",
       "      <td>1</td>\n",
       "      <td>0</td>\n",
       "      <td>0</td>\n",
       "      <td>15.28</td>\n",
       "      <td>5</td>\n",
       "      <td>3.8200</td>\n",
       "      <td>80.2200</td>\n",
       "      <td>3/8/2019</td>\n",
       "      <td>10:29</td>\n",
       "      <td>0</td>\n",
       "      <td>76.40</td>\n",
       "      <td>4.761905</td>\n",
       "      <td>3.8200</td>\n",
       "      <td>9.6</td>\n",
       "    </tr>\n",
       "    <tr>\n",
       "      <th>2</th>\n",
       "      <td>631-41-3108</td>\n",
       "      <td>0</td>\n",
       "      <td>2</td>\n",
       "      <td>1</td>\n",
       "      <td>1</td>\n",
       "      <td>4</td>\n",
       "      <td>46.33</td>\n",
       "      <td>7</td>\n",
       "      <td>16.2155</td>\n",
       "      <td>340.5255</td>\n",
       "      <td>3/3/2019</td>\n",
       "      <td>13:23</td>\n",
       "      <td>1</td>\n",
       "      <td>324.31</td>\n",
       "      <td>4.761905</td>\n",
       "      <td>16.2155</td>\n",
       "      <td>7.4</td>\n",
       "    </tr>\n",
       "    <tr>\n",
       "      <th>3</th>\n",
       "      <td>123-19-1176</td>\n",
       "      <td>0</td>\n",
       "      <td>2</td>\n",
       "      <td>0</td>\n",
       "      <td>1</td>\n",
       "      <td>3</td>\n",
       "      <td>58.22</td>\n",
       "      <td>8</td>\n",
       "      <td>23.2880</td>\n",
       "      <td>489.0480</td>\n",
       "      <td>1/27/2019</td>\n",
       "      <td>20:33</td>\n",
       "      <td>2</td>\n",
       "      <td>465.76</td>\n",
       "      <td>4.761905</td>\n",
       "      <td>23.2880</td>\n",
       "      <td>8.4</td>\n",
       "    </tr>\n",
       "    <tr>\n",
       "      <th>4</th>\n",
       "      <td>373-73-7910</td>\n",
       "      <td>0</td>\n",
       "      <td>2</td>\n",
       "      <td>1</td>\n",
       "      <td>1</td>\n",
       "      <td>5</td>\n",
       "      <td>86.31</td>\n",
       "      <td>7</td>\n",
       "      <td>30.2085</td>\n",
       "      <td>634.3785</td>\n",
       "      <td>2/8/2019</td>\n",
       "      <td>10:37</td>\n",
       "      <td>2</td>\n",
       "      <td>604.17</td>\n",
       "      <td>4.761905</td>\n",
       "      <td>30.2085</td>\n",
       "      <td>5.3</td>\n",
       "    </tr>\n",
       "  </tbody>\n",
       "</table>\n",
       "</div>"
      ],
      "text/plain": [
       "    Invoice ID  Branch  City  Customer type  Gender  Product line  Unit price  \\\n",
       "0  750-67-8428       0     2              0       0             3       74.69   \n",
       "1  226-31-3081       2     1              1       0             0       15.28   \n",
       "2  631-41-3108       0     2              1       1             4       46.33   \n",
       "3  123-19-1176       0     2              0       1             3       58.22   \n",
       "4  373-73-7910       0     2              1       1             5       86.31   \n",
       "\n",
       "   Quantity   Tax 5%     Total       Date   Time  Payment    cogs  \\\n",
       "0         7  26.1415  548.9715   1/5/2019  13:08        2  522.83   \n",
       "1         5   3.8200   80.2200   3/8/2019  10:29        0   76.40   \n",
       "2         7  16.2155  340.5255   3/3/2019  13:23        1  324.31   \n",
       "3         8  23.2880  489.0480  1/27/2019  20:33        2  465.76   \n",
       "4         7  30.2085  634.3785   2/8/2019  10:37        2  604.17   \n",
       "\n",
       "   gross margin percentage  gross income  Rating  \n",
       "0                 4.761905       26.1415     9.1  \n",
       "1                 4.761905        3.8200     9.6  \n",
       "2                 4.761905       16.2155     7.4  \n",
       "3                 4.761905       23.2880     8.4  \n",
       "4                 4.761905       30.2085     5.3  "
      ]
     },
     "execution_count": 66,
     "metadata": {},
     "output_type": "execute_result"
    }
   ],
   "source": [
    "#Feature Scaling\n",
    "from sklearn.preprocessing import LabelEncoder\n",
    "var=['Customer type','Gender','Product line','Payment','Branch','City']\n",
    "number=LabelEncoder()\n",
    "for i in var:\n",
    "      data[i]=number.fit_transform(data[i])\n",
    "data.head()"
   ]
  },
  {
   "cell_type": "code",
   "execution_count": 67,
   "metadata": {},
   "outputs": [],
   "source": [
    "predict=['Branch','City','Customer type','Gender','Product line','Unit price','Total','Payment','gross income']\n",
    "x=data[predict]\n",
    "y=data['Rating']"
   ]
  },
  {
   "cell_type": "code",
   "execution_count": 68,
   "metadata": {},
   "outputs": [],
   "source": [
    "from sklearn.model_selection import train_test_split\n",
    "x_train, x_test, y_train, y_test= train_test_split(x, y, test_size= 0.25, random_state=0) "
   ]
  },
  {
   "cell_type": "code",
   "execution_count": 69,
   "metadata": {},
   "outputs": [
    {
     "name": "stderr",
     "output_type": "stream",
     "text": [
      "C:\\Users\\Anirudh Shivshetty\\Anaconda3\\lib\\site-packages\\sklearn\\ensemble\\forest.py:245: FutureWarning: The default value of n_estimators will change from 10 in version 0.20 to 100 in 0.22.\n",
      "  \"10 in version 0.20 to 100 in 0.22.\", FutureWarning)\n"
     ]
    },
    {
     "data": {
      "text/plain": [
       "RandomForestRegressor(bootstrap=True, criterion='mse', max_depth=None,\n",
       "                      max_features='auto', max_leaf_nodes=None,\n",
       "                      min_impurity_decrease=0.0, min_impurity_split=None,\n",
       "                      min_samples_leaf=1, min_samples_split=2,\n",
       "                      min_weight_fraction_leaf=0.0, n_estimators=10,\n",
       "                      n_jobs=None, oob_score=False, random_state=None,\n",
       "                      verbose=0, warm_start=False)"
      ]
     },
     "execution_count": 69,
     "metadata": {},
     "output_type": "execute_result"
    }
   ],
   "source": [
    "from sklearn.ensemble import RandomForestRegressor\n",
    "rf=RandomForestRegressor()\n",
    "rf.fit(x_train,y_train)"
   ]
  },
  {
   "cell_type": "code",
   "execution_count": 70,
   "metadata": {},
   "outputs": [
    {
     "data": {
      "text/plain": [
       "KNeighborsRegressor(algorithm='auto', leaf_size=30, metric='minkowski',\n",
       "                    metric_params=None, n_jobs=None, n_neighbors=5, p=2,\n",
       "                    weights='uniform')"
      ]
     },
     "execution_count": 70,
     "metadata": {},
     "output_type": "execute_result"
    }
   ],
   "source": [
    "from sklearn.neighbors import KNeighborsRegressor  \n",
    "classifier= KNeighborsRegressor(n_neighbors=5, metric='minkowski', p=2 )  \n",
    "classifier.fit(x_train, y_train)  "
   ]
  },
  {
   "cell_type": "code",
   "execution_count": 71,
   "metadata": {},
   "outputs": [
    {
     "data": {
      "text/plain": [
       "1.8952970215773568"
      ]
     },
     "execution_count": 71,
     "metadata": {},
     "output_type": "execute_result"
    }
   ],
   "source": [
    "original_values=y_test\n",
    "predicted=rf.predict(x_test)\n",
    "from sklearn.metrics import mean_squared_error\n",
    "from math import sqrt\n",
    "rms = sqrt(mean_squared_error(original_values, predicted))\n",
    "rms"
   ]
  },
  {
   "cell_type": "code",
   "execution_count": 72,
   "metadata": {},
   "outputs": [
    {
     "data": {
      "text/plain": [
       "1.933175211924672"
      ]
     },
     "execution_count": 72,
     "metadata": {},
     "output_type": "execute_result"
    }
   ],
   "source": [
    "predicted1=classifier.predict(x_test)\n",
    "rms1=sqrt(mean_squared_error(original_values, predicted1))\n",
    "rms1"
   ]
  },
  {
   "cell_type": "code",
   "execution_count": 73,
   "metadata": {},
   "outputs": [],
   "source": [
    "#for test data set the best fit model is randomforest regressor as its rmse value is less compared to knn\n",
    "#y1 represents the array of predicted values for Rating using knn\n",
    "y1=classifier.predict(x)"
   ]
  },
  {
   "cell_type": "code",
   "execution_count": 74,
   "metadata": {},
   "outputs": [
    {
     "data": {
      "text/plain": [
       "1.617173954774192"
      ]
     },
     "execution_count": 74,
     "metadata": {},
     "output_type": "execute_result"
    }
   ],
   "source": [
    "#lets calcuate rmse value for complete data set\n",
    "rmse=sqrt(mean_squared_error(y, y1))\n",
    "rmse"
   ]
  },
  {
   "cell_type": "code",
   "execution_count": 75,
   "metadata": {},
   "outputs": [
    {
     "data": {
      "text/plain": [
       "1.1711598951466875"
      ]
     },
     "execution_count": 75,
     "metadata": {},
     "output_type": "execute_result"
    }
   ],
   "source": [
    "#rmse value for complete data set by using randomforest \n",
    "y2=rf.predict(x)\n",
    "rmseee=sqrt(mean_squared_error(y, y2))\n",
    "rmseee"
   ]
  },
  {
   "cell_type": "code",
   "execution_count": 76,
   "metadata": {},
   "outputs": [
    {
     "data": {
      "text/plain": [
       "array([8.22, 7.32, 6.67, 8.43, 5.72, 6.85, 5.54, 7.75, 6.82, 6.52, 5.73,\n",
       "       6.85, 7.36, 7.7 , 5.66, 4.65, 4.94, 6.99, 7.87, 4.54, 4.7 , 7.39,\n",
       "       4.69, 9.06, 6.2 , 7.77, 6.01, 7.17, 9.29, 7.02, 8.21, 6.75, 5.87,\n",
       "       5.95, 6.06, 6.98, 6.9 , 8.16, 7.6 , 7.63, 8.89, 6.38, 5.75, 8.08,\n",
       "       7.21, 7.  , 8.07, 4.5 , 7.55, 7.36, 9.05, 7.5 , 6.73, 6.85, 6.68,\n",
       "       7.3 , 6.58, 6.33, 6.27, 7.8 , 5.93, 6.72, 8.1 , 8.81, 7.48, 8.01,\n",
       "       6.5 , 8.54, 6.78, 5.04, 8.07, 6.08, 5.73, 8.17, 8.74, 5.76, 7.57,\n",
       "       6.99, 6.22, 6.89, 5.98, 6.39, 6.58, 8.05, 6.89, 4.45, 8.59, 7.05,\n",
       "       6.36, 6.34, 7.77, 7.82, 6.72, 8.32, 7.4 , 6.99, 5.42, 7.88, 8.47,\n",
       "       7.47, 4.72, 7.23, 6.16, 6.56, 7.28, 7.24, 7.43, 7.97, 7.11, 6.93,\n",
       "       5.41, 7.48, 8.  , 6.98, 8.88, 6.65, 6.03, 5.15, 6.47, 4.78, 5.23,\n",
       "       6.44, 6.8 , 6.03, 7.35, 4.44, 7.7 , 7.93, 8.57, 6.62, 7.41, 7.94,\n",
       "       6.74, 8.51, 6.17, 7.02, 7.87, 8.73, 7.97, 7.84, 6.06, 7.  , 5.56,\n",
       "       6.91, 6.95, 5.7 , 8.91, 7.1 , 7.07, 7.13, 7.74, 6.98, 7.06, 9.37,\n",
       "       6.83, 8.35, 5.95, 8.71, 6.37, 8.49, 8.16, 5.92, 6.95, 7.16, 5.92,\n",
       "       5.87, 6.37, 8.35, 6.45, 7.84, 5.64, 8.5 , 6.54, 7.64, 7.06, 7.46,\n",
       "       9.1 , 5.59, 4.41, 9.42, 6.82, 7.44, 7.49, 5.75, 6.31, 7.9 , 7.24,\n",
       "       7.01, 9.37, 6.63, 7.15, 5.92, 9.27, 6.62, 9.61, 5.4 , 6.94, 5.94,\n",
       "       7.98, 6.19, 7.46, 6.31, 6.6 , 8.61, 6.19, 7.83, 7.7 , 7.57, 5.83,\n",
       "       6.12, 6.12, 9.04, 6.34, 5.06, 7.42, 7.28, 8.01, 5.51, 7.72, 7.74,\n",
       "       6.48, 6.22, 7.74, 7.9 , 6.8 , 8.59, 5.14, 8.65, 6.3 , 7.24, 7.78,\n",
       "       6.38, 8.09, 7.08, 6.35, 6.19, 7.09, 7.88, 4.82, 7.79, 7.54, 6.06,\n",
       "       7.11, 5.64, 7.86, 6.26, 5.21, 6.82, 7.42, 7.38, 6.29, 6.63, 7.43,\n",
       "       6.37, 8.58, 7.38, 7.98, 8.12, 7.71, 7.2 , 6.44, 6.81, 7.23, 5.2 ,\n",
       "       5.31, 7.8 , 8.32, 8.46, 6.27, 6.65, 7.43, 8.23, 6.88, 5.24, 7.96,\n",
       "       6.92, 6.53, 6.89, 5.46, 7.03, 6.52, 7.11, 6.68, 6.32, 9.24, 7.71,\n",
       "       6.72, 8.32, 5.12, 5.1 , 6.88, 6.11, 4.7 , 6.82, 7.11, 6.59, 6.77,\n",
       "       6.85, 7.57, 9.12, 6.91, 6.74, 5.18, 6.09, 7.17, 4.52, 6.15, 4.49,\n",
       "       6.49, 8.13, 7.16, 8.43, 6.85, 6.56, 4.58, 7.31, 6.74, 7.97, 8.28,\n",
       "       7.63, 6.76, 6.85, 8.24, 6.71, 8.54, 6.2 , 5.91, 7.59, 5.53, 8.34,\n",
       "       6.84, 6.24, 8.18, 6.97, 7.22, 8.5 , 6.84, 5.49, 9.46, 8.77, 7.82,\n",
       "       7.42, 7.52, 8.38, 6.7 , 7.14, 7.26, 5.18, 6.16, 7.25, 6.83, 6.74,\n",
       "       8.03, 6.43, 7.34, 8.17, 8.4 , 5.31, 6.95, 6.31, 7.43, 8.83, 7.18,\n",
       "       7.28, 7.36, 8.97, 7.13, 6.28, 6.18, 8.22, 8.8 , 6.03, 6.19, 8.22,\n",
       "       7.96, 7.49, 7.37, 8.1 , 6.77, 4.58, 7.95, 5.42, 7.33, 5.95, 7.58,\n",
       "       6.06, 6.28, 9.07, 8.49, 8.25, 7.53, 9.32, 7.26, 6.95, 7.79, 6.28,\n",
       "       5.54, 6.71, 7.55, 7.61, 8.64, 6.2 , 8.86, 6.66, 6.31, 6.79, 8.27,\n",
       "       4.86, 7.13, 5.49, 5.78, 6.96, 6.39, 6.07, 8.47, 7.53, 7.26, 9.14,\n",
       "       6.69, 7.63, 7.78, 8.18, 7.29, 7.5 , 6.98, 8.06, 7.94, 6.8 , 7.12,\n",
       "       6.86, 7.29, 6.72, 7.55, 8.33, 6.14, 6.63, 8.31, 7.4 , 7.04, 6.73,\n",
       "       7.55, 4.51, 6.53, 8.92, 9.1 , 8.57, 8.91, 7.46, 4.99, 8.7 , 6.83,\n",
       "       7.09, 7.26, 6.12, 4.71, 7.21, 8.12, 5.48, 6.56, 7.23, 6.25, 8.27,\n",
       "       6.9 , 6.39, 8.36, 6.81, 7.24, 5.93, 7.06, 8.5 , 6.41, 9.02, 6.24,\n",
       "       5.89, 6.46, 6.29, 6.24, 5.57, 6.6 , 6.46, 8.12, 6.37, 5.7 , 7.07,\n",
       "       7.18, 6.6 , 7.32, 7.93, 4.8 , 6.68, 7.28, 7.46, 7.  , 8.03, 6.97,\n",
       "       6.84, 7.  , 7.47, 8.67, 8.5 , 7.13, 6.67, 8.4 , 6.74, 8.76, 8.9 ,\n",
       "       6.93, 7.89, 7.11, 7.31, 5.38, 7.53, 9.17, 5.69, 7.1 , 7.7 , 6.21,\n",
       "       8.64, 7.15, 5.16, 7.2 , 6.83, 7.34, 6.38, 7.39, 7.1 , 7.99, 6.79,\n",
       "       6.47, 7.6 , 7.22, 6.62, 7.54, 7.22, 7.23, 7.8 , 6.31, 6.96, 5.85,\n",
       "       6.71, 7.57, 7.3 , 5.23, 6.81, 7.38, 7.94, 8.82, 6.5 , 4.74, 7.02,\n",
       "       6.76, 8.54, 8.48, 6.94, 7.33, 7.99, 8.81, 5.79, 7.22, 6.97, 7.25,\n",
       "       6.51, 6.8 , 4.92, 8.2 , 6.73, 9.17, 7.8 , 7.32, 7.08, 7.71, 8.22,\n",
       "       7.21, 7.61, 8.01, 6.35, 8.51, 6.76, 7.38, 8.19, 7.16, 8.2 , 6.35,\n",
       "       6.69, 6.72, 6.42, 8.48, 7.08, 6.52, 5.57, 4.79, 7.91, 6.66, 4.82,\n",
       "       5.57, 8.27, 8.29, 6.82, 9.12, 8.87, 7.  , 7.38, 6.81, 7.72, 7.8 ,\n",
       "       8.54, 6.26, 6.56, 6.29, 7.51, 6.14, 7.05, 6.15, 9.04, 6.81, 6.74,\n",
       "       6.77, 5.06, 5.62, 8.28, 7.54, 9.15, 5.36, 5.02, 8.47, 8.34, 8.2 ,\n",
       "       5.28, 7.54, 7.78, 7.13, 5.53, 6.52, 5.3 , 5.27, 7.51, 7.07, 5.65,\n",
       "       6.38, 7.58, 6.04, 5.59, 5.9 , 5.5 , 7.66, 7.8 , 6.88, 5.52, 7.22,\n",
       "       6.81, 7.04, 8.51, 7.35, 6.87, 7.35, 6.56, 8.17, 7.17, 7.11, 5.12,\n",
       "       9.09, 7.61, 6.38, 9.54, 7.27, 7.71, 7.25, 6.65, 5.1 , 4.85, 5.12,\n",
       "       5.53, 6.47, 8.06, 5.32, 5.01, 6.57, 6.62, 7.41, 5.57, 5.88, 7.35,\n",
       "       6.74, 7.14, 5.83, 6.09, 7.98, 7.6 , 7.48, 7.87, 6.49, 5.62, 8.76,\n",
       "       7.2 , 8.32, 8.1 , 6.59, 5.38, 5.8 , 6.64, 8.26, 5.04, 5.55, 7.71,\n",
       "       6.39, 7.67, 8.11, 5.42, 8.43, 6.07, 7.78, 7.53, 6.85, 7.78, 7.83,\n",
       "       7.4 , 4.49, 6.96, 7.3 , 6.91, 7.38, 5.93, 7.96, 7.66, 6.97, 7.14,\n",
       "       6.25, 8.7 , 6.82, 7.91, 5.48, 6.13, 8.5 , 7.74, 6.01, 6.75, 7.72,\n",
       "       8.24, 6.67, 8.98, 6.74, 8.14, 8.16, 7.55, 6.3 , 7.19, 6.76, 6.31,\n",
       "       7.39, 7.74, 5.98, 7.55, 7.26, 7.18, 7.78, 6.75, 5.49, 5.36, 6.4 ,\n",
       "       7.81, 8.02, 4.93, 8.36, 7.  , 6.57, 6.35, 9.04, 6.08, 7.98, 5.38,\n",
       "       5.  , 8.02, 6.15, 7.22, 6.69, 7.86, 5.63, 9.59, 6.87, 5.96, 6.89,\n",
       "       7.28, 4.68, 6.94, 7.47, 6.68, 5.35, 8.01, 6.6 , 7.75, 5.95, 8.22,\n",
       "       6.09, 8.12, 5.39, 7.2 , 5.2 , 7.62, 9.13, 8.47, 7.15, 5.84, 6.85,\n",
       "       7.78, 7.84, 7.62, 8.44, 8.78, 8.46, 6.5 , 7.31, 5.63, 6.  , 6.71,\n",
       "       7.31, 6.86, 8.96, 7.9 , 7.33, 7.02, 6.13, 4.88, 6.25, 7.21, 5.32,\n",
       "       6.28, 6.36, 8.35, 5.78, 5.16, 6.99, 9.12, 6.36, 8.96, 6.22, 6.45,\n",
       "       6.56, 5.11, 6.21, 6.17, 8.01, 6.24, 5.72, 8.31, 8.17, 6.16, 9.01,\n",
       "       7.25, 4.91, 4.52, 8.14, 8.45, 5.85, 9.85, 7.41, 6.21, 6.99, 7.54,\n",
       "       6.52, 7.98, 9.06, 6.71, 7.38, 7.3 , 5.94, 7.61, 6.5 , 5.92, 4.9 ,\n",
       "       7.63, 7.45, 8.97, 5.9 , 7.88, 6.28, 6.  , 5.56, 6.53, 4.97, 7.53,\n",
       "       7.65, 9.01, 8.77, 8.84, 7.92, 5.42, 8.64, 7.46, 7.47, 6.15, 7.42,\n",
       "       8.04, 7.86, 8.81, 7.49, 6.79, 6.45, 7.65, 7.22, 5.47, 6.95, 5.76,\n",
       "       6.81, 7.06, 6.67, 7.71, 8.36, 6.8 , 6.65, 8.48, 6.  , 7.89, 7.32,\n",
       "       7.78, 6.62, 5.71, 8.39, 6.96, 6.69, 6.42, 5.93, 6.82, 7.22, 4.77,\n",
       "       6.6 , 8.37, 8.5 , 6.48, 6.89, 6.69, 7.34, 9.09, 5.7 , 7.13, 8.88,\n",
       "       6.04, 7.56, 7.31, 4.72, 6.72, 6.16, 6.8 , 7.11, 5.68, 5.02, 5.75,\n",
       "       6.79, 5.05, 7.57, 8.38, 8.54, 4.97, 7.88, 7.59, 6.26, 7.56, 6.54,\n",
       "       6.92, 7.06, 7.9 , 8.94, 9.59, 6.86, 6.46, 5.29, 5.64, 7.69, 8.11,\n",
       "       7.66, 9.01, 7.35, 6.63, 6.45, 6.93, 8.4 , 6.68, 8.44, 5.68, 5.93,\n",
       "       7.52, 8.89, 7.67, 6.4 , 6.2 , 6.14, 8.35, 7.13, 7.57, 5.2 , 7.48,\n",
       "       6.36, 7.13, 6.28, 8.42, 6.65, 6.32, 5.86, 7.26, 5.75, 7.4 ])"
      ]
     },
     "execution_count": 76,
     "metadata": {},
     "output_type": "execute_result"
    }
   ],
   "source": [
    "#totally randomforest is the best fit algorithm to predict the value of rating \n",
    "#As for complete data set its rmse value is less compared to knn regressor\n",
    "#y2 is the most accurate rating values for the dataset\n",
    "y2"
   ]
  },
  {
   "cell_type": "code",
   "execution_count": 99,
   "metadata": {},
   "outputs": [
    {
     "data": {
      "text/html": [
       "<div>\n",
       "<style scoped>\n",
       "    .dataframe tbody tr th:only-of-type {\n",
       "        vertical-align: middle;\n",
       "    }\n",
       "\n",
       "    .dataframe tbody tr th {\n",
       "        vertical-align: top;\n",
       "    }\n",
       "\n",
       "    .dataframe thead th {\n",
       "        text-align: right;\n",
       "    }\n",
       "</style>\n",
       "<table border=\"1\" class=\"dataframe\">\n",
       "  <thead>\n",
       "    <tr style=\"text-align: right;\">\n",
       "      <th></th>\n",
       "      <th>Invoice ID</th>\n",
       "      <th>Branch</th>\n",
       "      <th>City</th>\n",
       "      <th>Customer type</th>\n",
       "      <th>Gender</th>\n",
       "      <th>Product line</th>\n",
       "      <th>Unit price</th>\n",
       "      <th>Quantity</th>\n",
       "      <th>Tax 5%</th>\n",
       "      <th>Total</th>\n",
       "      <th>Date</th>\n",
       "      <th>Time</th>\n",
       "      <th>Payment</th>\n",
       "      <th>cogs</th>\n",
       "      <th>gross margin percentage</th>\n",
       "      <th>gross income</th>\n",
       "      <th>Rating</th>\n",
       "    </tr>\n",
       "  </thead>\n",
       "  <tbody>\n",
       "    <tr>\n",
       "      <th>9</th>\n",
       "      <td>692-92-5582</td>\n",
       "      <td>1</td>\n",
       "      <td>0</td>\n",
       "      <td>0</td>\n",
       "      <td>0</td>\n",
       "      <td>2</td>\n",
       "      <td>54.84</td>\n",
       "      <td>3</td>\n",
       "      <td>8.226</td>\n",
       "      <td>172.746</td>\n",
       "      <td>2/20/2019</td>\n",
       "      <td>13:27</td>\n",
       "      <td>1</td>\n",
       "      <td>164.52</td>\n",
       "      <td>4.761905</td>\n",
       "      <td>8.226</td>\n",
       "      <td>5.9</td>\n",
       "    </tr>\n",
       "    <tr>\n",
       "      <th>10</th>\n",
       "      <td>351-62-0822</td>\n",
       "      <td>1</td>\n",
       "      <td>0</td>\n",
       "      <td>0</td>\n",
       "      <td>0</td>\n",
       "      <td>1</td>\n",
       "      <td>14.48</td>\n",
       "      <td>4</td>\n",
       "      <td>2.896</td>\n",
       "      <td>60.816</td>\n",
       "      <td>2/6/2019</td>\n",
       "      <td>18:07</td>\n",
       "      <td>2</td>\n",
       "      <td>57.92</td>\n",
       "      <td>4.761905</td>\n",
       "      <td>2.896</td>\n",
       "      <td>4.5</td>\n",
       "    </tr>\n",
       "    <tr>\n",
       "      <th>11</th>\n",
       "      <td>529-56-3974</td>\n",
       "      <td>1</td>\n",
       "      <td>0</td>\n",
       "      <td>0</td>\n",
       "      <td>1</td>\n",
       "      <td>0</td>\n",
       "      <td>25.51</td>\n",
       "      <td>4</td>\n",
       "      <td>5.102</td>\n",
       "      <td>107.142</td>\n",
       "      <td>3/9/2019</td>\n",
       "      <td>17:03</td>\n",
       "      <td>0</td>\n",
       "      <td>102.04</td>\n",
       "      <td>4.761905</td>\n",
       "      <td>5.102</td>\n",
       "      <td>6.8</td>\n",
       "    </tr>\n",
       "    <tr>\n",
       "      <th>15</th>\n",
       "      <td>299-46-1805</td>\n",
       "      <td>1</td>\n",
       "      <td>0</td>\n",
       "      <td>0</td>\n",
       "      <td>0</td>\n",
       "      <td>5</td>\n",
       "      <td>93.72</td>\n",
       "      <td>6</td>\n",
       "      <td>28.116</td>\n",
       "      <td>590.436</td>\n",
       "      <td>1/15/2019</td>\n",
       "      <td>16:19</td>\n",
       "      <td>0</td>\n",
       "      <td>562.32</td>\n",
       "      <td>4.761905</td>\n",
       "      <td>28.116</td>\n",
       "      <td>4.5</td>\n",
       "    </tr>\n",
       "    <tr>\n",
       "      <th>19</th>\n",
       "      <td>319-50-3348</td>\n",
       "      <td>1</td>\n",
       "      <td>0</td>\n",
       "      <td>1</td>\n",
       "      <td>0</td>\n",
       "      <td>4</td>\n",
       "      <td>40.30</td>\n",
       "      <td>2</td>\n",
       "      <td>4.030</td>\n",
       "      <td>84.630</td>\n",
       "      <td>3/11/2019</td>\n",
       "      <td>15:30</td>\n",
       "      <td>2</td>\n",
       "      <td>80.60</td>\n",
       "      <td>4.761905</td>\n",
       "      <td>4.030</td>\n",
       "      <td>4.4</td>\n",
       "    </tr>\n",
       "    <tr>\n",
       "      <th>...</th>\n",
       "      <td>...</td>\n",
       "      <td>...</td>\n",
       "      <td>...</td>\n",
       "      <td>...</td>\n",
       "      <td>...</td>\n",
       "      <td>...</td>\n",
       "      <td>...</td>\n",
       "      <td>...</td>\n",
       "      <td>...</td>\n",
       "      <td>...</td>\n",
       "      <td>...</td>\n",
       "      <td>...</td>\n",
       "      <td>...</td>\n",
       "      <td>...</td>\n",
       "      <td>...</td>\n",
       "      <td>...</td>\n",
       "      <td>...</td>\n",
       "    </tr>\n",
       "    <tr>\n",
       "      <th>987</th>\n",
       "      <td>552-44-5977</td>\n",
       "      <td>1</td>\n",
       "      <td>0</td>\n",
       "      <td>0</td>\n",
       "      <td>1</td>\n",
       "      <td>3</td>\n",
       "      <td>62.00</td>\n",
       "      <td>8</td>\n",
       "      <td>24.800</td>\n",
       "      <td>520.800</td>\n",
       "      <td>1/3/2019</td>\n",
       "      <td>19:08</td>\n",
       "      <td>1</td>\n",
       "      <td>496.00</td>\n",
       "      <td>4.761905</td>\n",
       "      <td>24.800</td>\n",
       "      <td>6.2</td>\n",
       "    </tr>\n",
       "    <tr>\n",
       "      <th>989</th>\n",
       "      <td>430-53-4718</td>\n",
       "      <td>1</td>\n",
       "      <td>0</td>\n",
       "      <td>0</td>\n",
       "      <td>1</td>\n",
       "      <td>3</td>\n",
       "      <td>75.37</td>\n",
       "      <td>8</td>\n",
       "      <td>30.148</td>\n",
       "      <td>633.108</td>\n",
       "      <td>1/28/2019</td>\n",
       "      <td>15:46</td>\n",
       "      <td>1</td>\n",
       "      <td>602.96</td>\n",
       "      <td>4.761905</td>\n",
       "      <td>30.148</td>\n",
       "      <td>8.4</td>\n",
       "    </tr>\n",
       "    <tr>\n",
       "      <th>991</th>\n",
       "      <td>602-16-6955</td>\n",
       "      <td>1</td>\n",
       "      <td>0</td>\n",
       "      <td>1</td>\n",
       "      <td>0</td>\n",
       "      <td>5</td>\n",
       "      <td>76.60</td>\n",
       "      <td>10</td>\n",
       "      <td>38.300</td>\n",
       "      <td>804.300</td>\n",
       "      <td>1/24/2019</td>\n",
       "      <td>18:10</td>\n",
       "      <td>2</td>\n",
       "      <td>766.00</td>\n",
       "      <td>4.761905</td>\n",
       "      <td>38.300</td>\n",
       "      <td>6.0</td>\n",
       "    </tr>\n",
       "    <tr>\n",
       "      <th>993</th>\n",
       "      <td>690-01-6631</td>\n",
       "      <td>1</td>\n",
       "      <td>0</td>\n",
       "      <td>1</td>\n",
       "      <td>1</td>\n",
       "      <td>1</td>\n",
       "      <td>17.49</td>\n",
       "      <td>10</td>\n",
       "      <td>8.745</td>\n",
       "      <td>183.645</td>\n",
       "      <td>2/22/2019</td>\n",
       "      <td>18:35</td>\n",
       "      <td>2</td>\n",
       "      <td>174.90</td>\n",
       "      <td>4.761905</td>\n",
       "      <td>8.745</td>\n",
       "      <td>6.6</td>\n",
       "    </tr>\n",
       "    <tr>\n",
       "      <th>996</th>\n",
       "      <td>303-96-2227</td>\n",
       "      <td>1</td>\n",
       "      <td>0</td>\n",
       "      <td>1</td>\n",
       "      <td>0</td>\n",
       "      <td>4</td>\n",
       "      <td>97.38</td>\n",
       "      <td>10</td>\n",
       "      <td>48.690</td>\n",
       "      <td>1022.490</td>\n",
       "      <td>3/2/2019</td>\n",
       "      <td>17:16</td>\n",
       "      <td>2</td>\n",
       "      <td>973.80</td>\n",
       "      <td>4.761905</td>\n",
       "      <td>48.690</td>\n",
       "      <td>4.4</td>\n",
       "    </tr>\n",
       "  </tbody>\n",
       "</table>\n",
       "<p>332 rows × 17 columns</p>\n",
       "</div>"
      ],
      "text/plain": [
       "      Invoice ID  Branch  City  Customer type  Gender  Product line  \\\n",
       "9    692-92-5582       1     0              0       0             2   \n",
       "10   351-62-0822       1     0              0       0             1   \n",
       "11   529-56-3974       1     0              0       1             0   \n",
       "15   299-46-1805       1     0              0       0             5   \n",
       "19   319-50-3348       1     0              1       0             4   \n",
       "..           ...     ...   ...            ...     ...           ...   \n",
       "987  552-44-5977       1     0              0       1             3   \n",
       "989  430-53-4718       1     0              0       1             3   \n",
       "991  602-16-6955       1     0              1       0             5   \n",
       "993  690-01-6631       1     0              1       1             1   \n",
       "996  303-96-2227       1     0              1       0             4   \n",
       "\n",
       "     Unit price  Quantity  Tax 5%     Total       Date   Time  Payment  \\\n",
       "9         54.84         3   8.226   172.746  2/20/2019  13:27        1   \n",
       "10        14.48         4   2.896    60.816   2/6/2019  18:07        2   \n",
       "11        25.51         4   5.102   107.142   3/9/2019  17:03        0   \n",
       "15        93.72         6  28.116   590.436  1/15/2019  16:19        0   \n",
       "19        40.30         2   4.030    84.630  3/11/2019  15:30        2   \n",
       "..          ...       ...     ...       ...        ...    ...      ...   \n",
       "987       62.00         8  24.800   520.800   1/3/2019  19:08        1   \n",
       "989       75.37         8  30.148   633.108  1/28/2019  15:46        1   \n",
       "991       76.60        10  38.300   804.300  1/24/2019  18:10        2   \n",
       "993       17.49        10   8.745   183.645  2/22/2019  18:35        2   \n",
       "996       97.38        10  48.690  1022.490   3/2/2019  17:16        2   \n",
       "\n",
       "       cogs  gross margin percentage  gross income  Rating  \n",
       "9    164.52                 4.761905         8.226     5.9  \n",
       "10    57.92                 4.761905         2.896     4.5  \n",
       "11   102.04                 4.761905         5.102     6.8  \n",
       "15   562.32                 4.761905        28.116     4.5  \n",
       "19    80.60                 4.761905         4.030     4.4  \n",
       "..      ...                      ...           ...     ...  \n",
       "987  496.00                 4.761905        24.800     6.2  \n",
       "989  602.96                 4.761905        30.148     8.4  \n",
       "991  766.00                 4.761905        38.300     6.0  \n",
       "993  174.90                 4.761905         8.745     6.6  \n",
       "996  973.80                 4.761905        48.690     4.4  \n",
       "\n",
       "[332 rows x 17 columns]"
      ]
     },
     "execution_count": 99,
     "metadata": {},
     "output_type": "execute_result"
    }
   ],
   "source": [
    "#lets consider the branch of superstore to be Branch B and lets get the total or gross incomes of the branch\n",
    "xgrosss=data[data.Branch==1]\n",
    "xgrosss"
   ]
  },
  {
   "cell_type": "code",
   "execution_count": 78,
   "metadata": {},
   "outputs": [],
   "source": [
    "yyyyy=xgrosss['gross income']"
   ]
  },
  {
   "cell_type": "code",
   "execution_count": 79,
   "metadata": {},
   "outputs": [
    {
     "data": {
      "text/plain": [
       "9       8.226\n",
       "10      2.896\n",
       "11      5.102\n",
       "15     28.116\n",
       "19      4.030\n",
       "        ...  \n",
       "987    24.800\n",
       "989    30.148\n",
       "991    38.300\n",
       "993     8.745\n",
       "996    48.690\n",
       "Name: gross income, Length: 332, dtype: float64"
      ]
     },
     "execution_count": 79,
     "metadata": {},
     "output_type": "execute_result"
    }
   ],
   "source": [
    "#Out of 1000 rows from complete data set 332 of them belong to Branch of Superstore\n",
    "#yyy stores the values of gross income for the branch of superstore\n",
    "yyyyy"
   ]
  },
  {
   "cell_type": "code",
   "execution_count": 80,
   "metadata": {},
   "outputs": [
    {
     "name": "stderr",
     "output_type": "stream",
     "text": [
      "C:\\Users\\Anirudh Shivshetty\\Anaconda3\\lib\\site-packages\\sklearn\\linear_model\\logistic.py:432: FutureWarning: Default solver will be changed to 'lbfgs' in 0.22. Specify a solver to silence this warning.\n",
      "  FutureWarning)\n"
     ]
    },
    {
     "data": {
      "text/plain": [
       "LogisticRegression(C=1.0, class_weight=None, dual=False, fit_intercept=True,\n",
       "                   intercept_scaling=1, l1_ratio=None, max_iter=100,\n",
       "                   multi_class='warn', n_jobs=None, penalty='l2',\n",
       "                   random_state=0, solver='warn', tol=0.0001, verbose=0,\n",
       "                   warm_start=False)"
      ]
     },
     "execution_count": 80,
     "metadata": {},
     "output_type": "execute_result"
    }
   ],
   "source": [
    "#predicting customer type using logistic regression\n",
    "#first we will use logistic regression\n",
    "predict=['Branch','City','Rating','Gender','Product line','Unit price','Total','Payment','gross income']\n",
    "xxx=data[predict]\n",
    "yyy=data['Customer type']\n",
    "xxx_train, xxx_test, yyy_train, yyy_test= train_test_split(xxx, yyy, test_size= 0.25, random_state=0)\n",
    "from sklearn.linear_model import LogisticRegression  \n",
    "classify= LogisticRegression(random_state=0)  \n",
    "classify.fit(xxx_train, yyy_train)  "
   ]
  },
  {
   "cell_type": "code",
   "execution_count": 81,
   "metadata": {},
   "outputs": [
    {
     "data": {
      "text/plain": [
       "array([1, 0, 0, 1, 0, 1, 0, 1, 0, 1, 0, 1, 0, 1, 0, 0, 1, 1, 0, 0, 1, 0,\n",
       "       1, 1, 0, 0, 1, 1, 0, 0, 0, 1, 1, 1, 0, 0, 1, 0, 1, 1, 1, 0, 1, 1,\n",
       "       1, 0, 1, 0, 0, 0, 1, 0, 1, 0, 0, 0, 0, 0, 1, 1, 0, 0, 0, 1, 0, 0,\n",
       "       1, 1, 0, 1, 1, 0, 0, 1, 1, 1, 1, 0, 0, 1, 0, 0, 0, 0, 0, 0, 0, 0,\n",
       "       0, 0, 0, 1, 0, 1, 1, 0, 1, 0, 0, 1, 1, 1, 1, 0, 0, 1, 1, 1, 0, 0,\n",
       "       0, 1, 0, 0, 1, 1, 1, 1, 1, 1, 0, 0, 1, 1, 0, 1, 0, 1, 0, 1, 1, 0,\n",
       "       1, 0, 1, 1, 0, 0, 1, 0, 1, 0, 1, 1, 0, 0, 0, 0, 1, 0, 0, 1, 1, 0,\n",
       "       1, 0, 1, 1, 0, 1, 1, 0, 0, 0, 0, 1, 0, 0, 1, 1, 0, 1, 0, 0, 1, 0,\n",
       "       1, 0, 1, 0, 1, 0, 1, 0, 1, 0, 1, 0, 0, 1, 0, 0, 0, 0, 0, 1, 1, 1,\n",
       "       1, 0, 0, 1, 1, 0, 1, 0, 0, 1, 1, 1, 0, 1, 0, 1, 1, 1, 1, 0, 0, 1,\n",
       "       0, 0, 1, 0, 1, 1, 0, 0, 1, 1, 1, 0, 0, 0, 0, 0, 1, 1, 0, 1, 0, 0,\n",
       "       0, 0, 0, 0, 0, 1, 1, 0])"
      ]
     },
     "execution_count": 81,
     "metadata": {},
     "output_type": "execute_result"
    }
   ],
   "source": [
    "yyy_pred= classify.predict(xxx_test)   \n",
    "yyy_pred"
   ]
  },
  {
   "cell_type": "code",
   "execution_count": 82,
   "metadata": {},
   "outputs": [],
   "source": [
    "from sklearn.metrics import confusion_matrix  \n",
    "cm= confusion_matrix(yyy_test, yyy_pred)  "
   ]
  },
  {
   "cell_type": "code",
   "execution_count": 83,
   "metadata": {},
   "outputs": [
    {
     "name": "stdout",
     "output_type": "stream",
     "text": [
      "[[64 58]\n",
      " [69 59]]\n"
     ]
    }
   ],
   "source": [
    "print(cm)"
   ]
  },
  {
   "cell_type": "code",
   "execution_count": 84,
   "metadata": {},
   "outputs": [
    {
     "name": "stdout",
     "output_type": "stream",
     "text": [
      "[[64 58]\n",
      " [69 59]]\n"
     ]
    }
   ],
   "source": [
    "#customer classification using decision tree\n",
    "from sklearn.tree import DecisionTreeClassifier  \n",
    "classifier555= DecisionTreeClassifier(criterion='entropy', random_state=0)  \n",
    "classifier555.fit(xxx_train, yyy_train)\n",
    "yyy_pred11= classifier555.predict(xxx_test)   \n",
    "cmx= confusion_matrix(yyy_test, yyy_pred)\n",
    "print(cmx)"
   ]
  },
  {
   "cell_type": "code",
   "execution_count": 85,
   "metadata": {},
   "outputs": [
    {
     "name": "stdout",
     "output_type": "stream",
     "text": [
      "[[275 226]\n",
      " [263 236]]\n"
     ]
    }
   ],
   "source": [
    "#using decision tree also we get the same result as that of logistic regression;ie only 50%of the values are predicted correctly\n",
    "#As we can see this using the confusion matrix\n",
    "#lets predict for the complete data set using logistic refression\n",
    "#50% accuracy is observed\n",
    "yyy_pred1= classify.predict(xxx)   \n",
    "yyy_pred1\n",
    "cmmm= confusion_matrix(yyy, yyy_pred1)\n",
    "print(cmmm)"
   ]
  },
  {
   "cell_type": "code",
   "execution_count": 104,
   "metadata": {},
   "outputs": [
    {
     "data": {
      "text/plain": [
       "<matplotlib.axes._subplots.AxesSubplot at 0xe27f050>"
      ]
     },
     "execution_count": 104,
     "metadata": {},
     "output_type": "execute_result"
    },
    {
     "data": {
      "image/png": "[encoded data removed]",
      "text/plain": [
       "<Figure size 432x288 with 1 Axes>"
      ]
     },
     "metadata": {
      "needs_background": "light"
     },
     "output_type": "display_data"
    }
   ],
   "source": [
    "#visualising correlation between city and gross income\n",
    "import matplotlib.pyplot as plt\n",
    "import seaborn as sns\n",
    "sns.boxplot(data['City'],data['gross income'])"
   ]
  },
  {
   "cell_type": "code",
   "execution_count": 110,
   "metadata": {},
   "outputs": [
    {
     "data": {
      "image/png": "[encoded data removed]",
      "text/plain": [
       "<Figure size 432x288 with 2 Axes>"
      ]
     },
     "metadata": {
      "needs_background": "light"
     },
     "output_type": "display_data"
    }
   ],
   "source": [
    "# by analysing box plot\n",
    "# average gross income for all the cities is almost same ie around 10 and overall ranges from 0 to 50 # by analysing box plot\n",
    "\n",
    "#lets plot a correlation matrix\n",
    "df = pd.DataFrame(data,columns=['City','gross income'])\n",
    "corrMatrix = df.corr()\n",
    "sns.heatmap(corrMatrix, annot=True)\n",
    "plt.show()"
   ]
  },
  {
   "cell_type": "code",
   "execution_count": 111,
   "metadata": {},
   "outputs": [
    {
     "data": {
      "text/html": [
       "<div>\n",
       "<style scoped>\n",
       "    .dataframe tbody tr th:only-of-type {\n",
       "        vertical-align: middle;\n",
       "    }\n",
       "\n",
       "    .dataframe tbody tr th {\n",
       "        vertical-align: top;\n",
       "    }\n",
       "\n",
       "    .dataframe thead th {\n",
       "        text-align: right;\n",
       "    }\n",
       "</style>\n",
       "<table border=\"1\" class=\"dataframe\">\n",
       "  <thead>\n",
       "    <tr style=\"text-align: right;\">\n",
       "      <th>Product line</th>\n",
       "      <th>0</th>\n",
       "      <th>1</th>\n",
       "      <th>2</th>\n",
       "      <th>3</th>\n",
       "      <th>4</th>\n",
       "      <th>5</th>\n",
       "    </tr>\n",
       "    <tr>\n",
       "      <th>Gender</th>\n",
       "      <th></th>\n",
       "      <th></th>\n",
       "      <th></th>\n",
       "      <th></th>\n",
       "      <th></th>\n",
       "      <th></th>\n",
       "    </tr>\n",
       "  </thead>\n",
       "  <tbody>\n",
       "    <tr>\n",
       "      <th>0</th>\n",
       "      <td>84</td>\n",
       "      <td>96</td>\n",
       "      <td>90</td>\n",
       "      <td>64</td>\n",
       "      <td>79</td>\n",
       "      <td>88</td>\n",
       "    </tr>\n",
       "    <tr>\n",
       "      <th>1</th>\n",
       "      <td>86</td>\n",
       "      <td>82</td>\n",
       "      <td>84</td>\n",
       "      <td>88</td>\n",
       "      <td>81</td>\n",
       "      <td>78</td>\n",
       "    </tr>\n",
       "  </tbody>\n",
       "</table>\n",
       "</div>"
      ],
      "text/plain": [
       "Product line   0   1   2   3   4   5\n",
       "Gender                              \n",
       "0             84  96  90  64  79  88\n",
       "1             86  82  84  88  81  78"
      ]
     },
     "execution_count": 111,
     "metadata": {},
     "output_type": "execute_result"
    }
   ],
   "source": [
    "#data analysis for gender prediction\n",
    "twowaytable=pd.crosstab(data['Gender'],data['Product line'])\n",
    "twowaytable"
   ]
  },
  {
   "cell_type": "code",
   "execution_count": 113,
   "metadata": {},
   "outputs": [
    {
     "data": {
      "text/html": [
       "<div>\n",
       "<style scoped>\n",
       "    .dataframe tbody tr th:only-of-type {\n",
       "        vertical-align: middle;\n",
       "    }\n",
       "\n",
       "    .dataframe tbody tr th {\n",
       "        vertical-align: top;\n",
       "    }\n",
       "\n",
       "    .dataframe thead th {\n",
       "        text-align: right;\n",
       "    }\n",
       "</style>\n",
       "<table border=\"1\" class=\"dataframe\">\n",
       "  <thead>\n",
       "    <tr style=\"text-align: right;\">\n",
       "      <th>Rating</th>\n",
       "      <th>4.0</th>\n",
       "      <th>4.1</th>\n",
       "      <th>4.2</th>\n",
       "      <th>4.3</th>\n",
       "      <th>4.4</th>\n",
       "      <th>4.5</th>\n",
       "      <th>4.6</th>\n",
       "      <th>4.7</th>\n",
       "      <th>4.8</th>\n",
       "      <th>4.9</th>\n",
       "      <th>...</th>\n",
       "      <th>9.1</th>\n",
       "      <th>9.2</th>\n",
       "      <th>9.3</th>\n",
       "      <th>9.4</th>\n",
       "      <th>9.5</th>\n",
       "      <th>9.6</th>\n",
       "      <th>9.7</th>\n",
       "      <th>9.8</th>\n",
       "      <th>9.9</th>\n",
       "      <th>10.0</th>\n",
       "    </tr>\n",
       "    <tr>\n",
       "      <th>Gender</th>\n",
       "      <th></th>\n",
       "      <th></th>\n",
       "      <th></th>\n",
       "      <th></th>\n",
       "      <th></th>\n",
       "      <th></th>\n",
       "      <th></th>\n",
       "      <th></th>\n",
       "      <th></th>\n",
       "      <th></th>\n",
       "      <th></th>\n",
       "      <th></th>\n",
       "      <th></th>\n",
       "      <th></th>\n",
       "      <th></th>\n",
       "      <th></th>\n",
       "      <th></th>\n",
       "      <th></th>\n",
       "      <th></th>\n",
       "      <th></th>\n",
       "      <th></th>\n",
       "    </tr>\n",
       "  </thead>\n",
       "  <tbody>\n",
       "    <tr>\n",
       "      <th>0</th>\n",
       "      <td>6</td>\n",
       "      <td>13</td>\n",
       "      <td>14</td>\n",
       "      <td>7</td>\n",
       "      <td>7</td>\n",
       "      <td>13</td>\n",
       "      <td>4</td>\n",
       "      <td>8</td>\n",
       "      <td>7</td>\n",
       "      <td>9</td>\n",
       "      <td>...</td>\n",
       "      <td>9</td>\n",
       "      <td>9</td>\n",
       "      <td>7</td>\n",
       "      <td>3</td>\n",
       "      <td>15</td>\n",
       "      <td>9</td>\n",
       "      <td>7</td>\n",
       "      <td>7</td>\n",
       "      <td>8</td>\n",
       "      <td>4</td>\n",
       "    </tr>\n",
       "    <tr>\n",
       "      <th>1</th>\n",
       "      <td>5</td>\n",
       "      <td>4</td>\n",
       "      <td>8</td>\n",
       "      <td>11</td>\n",
       "      <td>10</td>\n",
       "      <td>4</td>\n",
       "      <td>4</td>\n",
       "      <td>4</td>\n",
       "      <td>6</td>\n",
       "      <td>9</td>\n",
       "      <td>...</td>\n",
       "      <td>5</td>\n",
       "      <td>7</td>\n",
       "      <td>9</td>\n",
       "      <td>9</td>\n",
       "      <td>7</td>\n",
       "      <td>8</td>\n",
       "      <td>7</td>\n",
       "      <td>12</td>\n",
       "      <td>8</td>\n",
       "      <td>1</td>\n",
       "    </tr>\n",
       "  </tbody>\n",
       "</table>\n",
       "<p>2 rows × 61 columns</p>\n",
       "</div>"
      ],
      "text/plain": [
       "Rating  4.0   4.1   4.2   4.3   4.4   4.5   4.6   4.7   4.8   4.9   ...  9.1   \\\n",
       "Gender                                                              ...         \n",
       "0          6    13    14     7     7    13     4     8     7     9  ...     9   \n",
       "1          5     4     8    11    10     4     4     4     6     9  ...     5   \n",
       "\n",
       "Rating  9.2   9.3   9.4   9.5   9.6   9.7   9.8   9.9   10.0  \n",
       "Gender                                                        \n",
       "0          9     7     3    15     9     7     7     8     4  \n",
       "1          7     9     9     7     8     7    12     8     1  \n",
       "\n",
       "[2 rows x 61 columns]"
      ]
     },
     "execution_count": 113,
     "metadata": {},
     "output_type": "execute_result"
    }
   ],
   "source": [
    "twowaytable1=pd.crosstab(data['Gender'],data['Rating'])\n",
    "twowaytable1"
   ]
  },
  {
   "cell_type": "code",
   "execution_count": 114,
   "metadata": {},
   "outputs": [
    {
     "data": {
      "text/html": [
       "<div>\n",
       "<style scoped>\n",
       "    .dataframe tbody tr th:only-of-type {\n",
       "        vertical-align: middle;\n",
       "    }\n",
       "\n",
       "    .dataframe tbody tr th {\n",
       "        vertical-align: top;\n",
       "    }\n",
       "\n",
       "    .dataframe thead th {\n",
       "        text-align: right;\n",
       "    }\n",
       "</style>\n",
       "<table border=\"1\" class=\"dataframe\">\n",
       "  <thead>\n",
       "    <tr style=\"text-align: right;\">\n",
       "      <th>City</th>\n",
       "      <th>0</th>\n",
       "      <th>1</th>\n",
       "      <th>2</th>\n",
       "    </tr>\n",
       "    <tr>\n",
       "      <th>Gender</th>\n",
       "      <th></th>\n",
       "      <th></th>\n",
       "      <th></th>\n",
       "    </tr>\n",
       "  </thead>\n",
       "  <tbody>\n",
       "    <tr>\n",
       "      <th>0</th>\n",
       "      <td>162</td>\n",
       "      <td>178</td>\n",
       "      <td>161</td>\n",
       "    </tr>\n",
       "    <tr>\n",
       "      <th>1</th>\n",
       "      <td>170</td>\n",
       "      <td>150</td>\n",
       "      <td>179</td>\n",
       "    </tr>\n",
       "  </tbody>\n",
       "</table>\n",
       "</div>"
      ],
      "text/plain": [
       "City      0    1    2\n",
       "Gender               \n",
       "0       162  178  161\n",
       "1       170  150  179"
      ]
     },
     "execution_count": 114,
     "metadata": {},
     "output_type": "execute_result"
    }
   ],
   "source": [
    "twowaytable2=pd.crosstab(data['Gender'],data['City'])\n",
    "twowaytable2"
   ]
  },
  {
   "cell_type": "code",
   "execution_count": 115,
   "metadata": {},
   "outputs": [
    {
     "data": {
      "text/html": [
       "<div>\n",
       "<style scoped>\n",
       "    .dataframe tbody tr th:only-of-type {\n",
       "        vertical-align: middle;\n",
       "    }\n",
       "\n",
       "    .dataframe tbody tr th {\n",
       "        vertical-align: top;\n",
       "    }\n",
       "\n",
       "    .dataframe thead th {\n",
       "        text-align: right;\n",
       "    }\n",
       "</style>\n",
       "<table border=\"1\" class=\"dataframe\">\n",
       "  <thead>\n",
       "    <tr style=\"text-align: right;\">\n",
       "      <th>Customer type</th>\n",
       "      <th>0</th>\n",
       "      <th>1</th>\n",
       "    </tr>\n",
       "    <tr>\n",
       "      <th>Gender</th>\n",
       "      <th></th>\n",
       "      <th></th>\n",
       "    </tr>\n",
       "  </thead>\n",
       "  <tbody>\n",
       "    <tr>\n",
       "      <th>0</th>\n",
       "      <td>261</td>\n",
       "      <td>240</td>\n",
       "    </tr>\n",
       "    <tr>\n",
       "      <th>1</th>\n",
       "      <td>240</td>\n",
       "      <td>259</td>\n",
       "    </tr>\n",
       "  </tbody>\n",
       "</table>\n",
       "</div>"
      ],
      "text/plain": [
       "Customer type    0    1\n",
       "Gender                 \n",
       "0              261  240\n",
       "1              240  259"
      ]
     },
     "execution_count": 115,
     "metadata": {},
     "output_type": "execute_result"
    }
   ],
   "source": [
    "twowaytable3=pd.crosstab(data['Gender'],data['Customer type'])\n",
    "twowaytable3"
   ]
  },
  {
   "cell_type": "code",
   "execution_count": null,
   "metadata": {},
   "outputs": [],
   "source": [
    "# no we cannot predict the gender of the customer since they are almost in the same frequency or numbers all over"
   ]
  }
 ],
 "metadata": {
  "kernelspec": {
   "display_name": "Python 3",
   "language": "python",
   "name": "python3"
  },
  "language_info": {
   "codemirror_mode": {
    "name": "ipython",
    "version": 3
   },
   "file_extension": ".py",
   "mimetype": "text/x-python",
   "name": "python",
   "nbconvert_exporter": "python",
   "pygments_lexer": "ipython3",
   "version": "3.7.7"
  }
 },
 "nbformat": 4,
 "nbformat_minor": 4
}
